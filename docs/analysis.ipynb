{
 "cells": [
  {
   "cell_type": "code",
   "execution_count": 30,
   "metadata": {},
   "outputs": [],
   "source": [
    "import pathlib\n",
    "import os\n",
    "import pandas as pd\n",
    "import numpy as np\n",
    "\n",
    "\n",
    "data_dir = pathlib.Path(os.getcwd()).parent / \"data\"\n",
    "\n",
    "df22_1 = pd.read_csv(data_dir / \"output_exp22_1.csv\", sep=';')\n",
    "df22_2 = pd.read_csv(data_dir / \"output_exp22_2.csv\", sep=';')\n",
    "df23 = pd.read_csv(data_dir / \"output_exp23.csv\", sep=';')\n",
    "df24 = pd.read_csv(data_dir / \"output_exp24.csv\", sep=';')"
   ]
  },
  {
   "cell_type": "code",
   "execution_count": 49,
   "metadata": {},
   "outputs": [
    {
     "name": "stdout",
     "output_type": "stream",
     "text": [
      "|    |   size |   nprocs |   avg_time |   speedup |   par-efficiency |\n",
      "|---:|-------:|---------:|-----------:|----------:|-----------------:|\n",
      "|  0 |    155 |        1 |  0.394086  |   1       |         1        |\n",
      "|  1 |    155 |        2 |  0.210897  |   1.86862 |         0.934308 |\n",
      "|  2 |    155 |        4 |  0.121818  |   3.23504 |         0.808759 |\n",
      "|  3 |    155 |        8 |  0.0862224 |   4.57057 |         0.571321 |\n",
      "|  4 |    155 |       16 |  0.0852527 |   4.62256 |         0.28891  |\n",
      "|  5 |    155 |       24 |  0.0963721 |   4.08921 |         0.170384 |\n",
      "|  6 |    155 |       32 |  0.108531  |   3.6311  |         0.113472 |\n",
      "|  7 |   1100 |        1 | 19.1049    |   1       |         1        |\n",
      "|  8 |   1100 |        2 |  9.67163   |   1.97536 |         0.987679 |\n",
      "|  9 |   1100 |        4 |  4.90018   |   3.89883 |         0.974706 |\n",
      "| 10 |   1100 |        8 |  2.4526    |   7.78967 |         0.973708 |\n",
      "| 11 |   1100 |       16 |  1.28631   |  14.8525  |         0.928281 |\n",
      "| 12 |   1100 |       24 |  0.900398  |  21.2183  |         0.884097 |\n",
      "| 13 |   1100 |       32 |  0.746145  |  25.6049  |         0.800152 |\n"
     ]
    }
   ],
   "source": [
    "# 2.2.1\n",
    "\n",
    "df = df22_2.copy()\n",
    "df = df.groupby(['size', 'patch', 'nprocs']).mean().reset_index()\n",
    "df = df.rename(columns={'time': 'avg_time'})\n",
    "\n",
    "# get relative speedup based on nprocs=1\n",
    "df['speedup'] = df.apply(\n",
    "    lambda row: df[(df['size'] == row['size']) & (df['patch'] == row['patch']) & (df['nprocs'] == 1)]['avg_time'].values[0]\n",
    "    /\n",
    "    row['avg_time'], axis=1\n",
    ")\n",
    "\n",
    "# get parallel efficiency\n",
    "df['par-efficiency'] = df['speedup'] / df['nprocs']\n",
    "\n",
    "\n",
    "# remove patch column\n",
    "df = df.drop(columns=['patch'])\n",
    "\n",
    "print(df.to_markdown())"
   ]
  },
  {
   "cell_type": "code",
   "execution_count": null,
   "metadata": {},
   "outputs": [],
   "source": []
  }
 ],
 "metadata": {
  "kernelspec": {
   "display_name": "Python 3",
   "language": "python",
   "name": "python3"
  },
  "language_info": {
   "codemirror_mode": {
    "name": "ipython",
    "version": 3
   },
   "file_extension": ".py",
   "mimetype": "text/x-python",
   "name": "python",
   "nbconvert_exporter": "python",
   "pygments_lexer": "ipython3",
   "version": "3.11.8"
  }
 },
 "nbformat": 4,
 "nbformat_minor": 2
}
