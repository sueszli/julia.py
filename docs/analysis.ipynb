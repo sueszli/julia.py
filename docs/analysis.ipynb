{
 "cells": [
  {
   "cell_type": "code",
   "execution_count": 20,
   "metadata": {},
   "outputs": [
    {
     "name": "stdout",
     "output_type": "stream",
     "text": [
      "   size  patch  nprocs       time\n",
      "0   155     26       1   0.276152\n",
      "1   155     26       1   0.275967\n",
      "2   155     26       1   0.277137\n",
      "3  1100     26       1  13.435973\n",
      "4  1100     26       1  13.452275\n",
      "   size  patch  nprocs       time\n",
      "0   155     26       1   0.392239\n",
      "1   155     26       1   0.398780\n",
      "2   155     26       1   0.391238\n",
      "3  1100     26       1  19.344265\n",
      "4  1100     26       1  18.905651\n",
      "   size  patch  nprocs       time\n",
      "0   950      1      32  60.383155\n",
      "1   950      1      32  58.993379\n",
      "2   950      1      32  59.664797\n",
      "3   950      5      32   2.429567\n",
      "4   950      5      32   2.457375\n",
      "   size  patch  nprocs       time\n",
      "0   800      1      16  51.777335\n",
      "1   800      1      16  48.679752\n",
      "2   800      1      16  49.604969\n",
      "3   800      2      16  12.208631\n",
      "4   800      2      16  12.400219\n"
     ]
    }
   ],
   "source": [
    "import pathlib\n",
    "import os\n",
    "import pandas as pd\n",
    "import numpy as np\n",
    "\n",
    "\n",
    "data_dir = pathlib.Path(os.getcwd()).parent / \"data\"\n",
    "\n",
    "df22_1 = pd.read_csv(data_dir / \"output_exp22_1.csv\", sep=';')\n",
    "df22_2 = pd.read_csv(data_dir / \"output_exp22_2.csv\", sep=';')\n",
    "df23 = pd.read_csv(data_dir / \"output_exp23.csv\", sep=';')\n",
    "df24 = pd.read_csv(data_dir / \"output_exp24.csv\", sep=';')\n"
   ]
  },
  {
   "cell_type": "code",
   "execution_count": null,
   "metadata": {},
   "outputs": [],
   "source": []
  }
 ],
 "metadata": {
  "kernelspec": {
   "display_name": "Python 3",
   "language": "python",
   "name": "python3"
  },
  "language_info": {
   "codemirror_mode": {
    "name": "ipython",
    "version": 3
   },
   "file_extension": ".py",
   "mimetype": "text/x-python",
   "name": "python",
   "nbconvert_exporter": "python",
   "pygments_lexer": "ipython3",
   "version": "3.11.8"
  }
 },
 "nbformat": 4,
 "nbformat_minor": 2
}
